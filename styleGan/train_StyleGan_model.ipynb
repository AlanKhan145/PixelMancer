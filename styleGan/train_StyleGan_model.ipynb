{
  "nbformat": 4,
  "nbformat_minor": 0,
  "metadata": {
    "colab": {
      "provenance": []
    },
    "kernelspec": {
      "name": "python3",
      "display_name": "Python 3"
    },
    "language_info": {
      "name": "python"
    }
  },
  "cells": [
    {
      "cell_type": "markdown",
      "source": [
        "# **Load Data**"
      ],
      "metadata": {
        "id": "-Cvb3t3j3IY4"
      }
    },
    {
      "cell_type": "code",
      "source": [
        "from google.colab import files\n",
        "files.upload()"
      ],
      "metadata": {
        "id": "s8STrnIZ3Uay"
      },
      "execution_count": null,
      "outputs": []
    },
    {
      "cell_type": "code",
      "source": [
        "!pip install -q kaggle"
      ],
      "metadata": {
        "id": "h3zy8J303hrY"
      },
      "execution_count": null,
      "outputs": []
    },
    {
      "cell_type": "code",
      "source": [
        "!mkdir ~/.kaggle\n",
        "!cp kaggle.json ~/.kaggle/"
      ],
      "metadata": {
        "id": "vSsAhMCK5cB3"
      },
      "execution_count": null,
      "outputs": []
    },
    {
      "cell_type": "code",
      "source": [
        "!kaggle datasets download -d \"andy8744/ganyu-genshin-impact-anime-faces-gan-training\""
      ],
      "metadata": {
        "id": "FLnxzGSg5cmo"
      },
      "execution_count": null,
      "outputs": []
    },
    {
      "cell_type": "code",
      "source": [
        "import zipfile\n",
        "import os\n",
        "\n",
        "# Đường dẫn đến file ZIP\n",
        "zip_path = '/content/ganyu-genshin-impact-anime-faces-gan-training.zip'\n",
        "\n",
        "# Đường dẫn mà bạn muốn giải nén file ZIP vào\n",
        "extract_to = '/content/data'\n",
        "\n",
        "# Kiểm tra và tạo thư mục nếu thư mục đích không tồn tại\n",
        "if not os.path.exists(extract_to):\n",
        "    os.makedirs(extract_to)\n",
        "\n",
        "# Giải nén file\n",
        "with zipfile.ZipFile(zip_path, 'r') as zip_ref:\n",
        "    zip_ref.extractall(extract_to)\n",
        "\n",
        "print(f'Đã giải nén file thành công vào {extract_to}')"
      ],
      "metadata": {
        "id": "fIIrLRdA5d34"
      },
      "execution_count": null,
      "outputs": []
    },
    {
      "cell_type": "code",
      "source": [
        "data_url = \"/content/data/ganyu/ganyu-final\""
      ],
      "metadata": {
        "id": "YK-JF-a06KW2"
      },
      "execution_count": null,
      "outputs": []
    },
    {
      "cell_type": "markdown",
      "source": [
        "# **Import library**"
      ],
      "metadata": {
        "id": "lV4FHvxI5zqu"
      }
    },
    {
      "cell_type": "code",
      "source": [
        "!git clone https://github.com/NVlabs/stylegan3.git"
      ],
      "metadata": {
        "id": "o_IE9gVl52-W"
      },
      "execution_count": null,
      "outputs": []
    },
    {
      "cell_type": "code",
      "source": [
        "!nvidia-smi\n"
      ],
      "metadata": {
        "id": "g1FEZFXp54we"
      },
      "execution_count": null,
      "outputs": []
    },
    {
      "cell_type": "code",
      "source": [
        "!pip install Ninja -q\n",
        "!pip install imageio-ffmpeg -q\n",
        "!pip install youtube-dl -q"
      ],
      "metadata": {
        "id": "BG4IEAEv566d"
      },
      "execution_count": null,
      "outputs": []
    },
    {
      "cell_type": "code",
      "source": [
        "import torch\n",
        "import numpy as np\n",
        "import matplotlib.pyplot as plt\n",
        "from PIL import Image\n",
        "import cv2\n",
        "import os"
      ],
      "metadata": {
        "id": "NoEPDV8n58g-"
      },
      "execution_count": null,
      "outputs": []
    },
    {
      "cell_type": "markdown",
      "source": [
        "# **Prepare Data**"
      ],
      "metadata": {
        "id": "k7HDsIj759QV"
      }
    },
    {
      "cell_type": "code",
      "source": [
        "!python /content/stylegan3/dataset_tool.py \\\n",
        "    --source=/content/data/ganyu/ganyu-final \\\n",
        "    --dest=/content/data/ganyu/images64x64.zip \\\n",
        "    --resolution=64x64\n"
      ],
      "metadata": {
        "id": "zOggU1hq6GhI"
      },
      "execution_count": null,
      "outputs": []
    },
    {
      "cell_type": "markdown",
      "source": [
        "# **Train Model**"
      ],
      "metadata": {
        "id": "wwfQpQal6Ukd"
      }
    },
    {
      "cell_type": "code",
      "source": [
        "!python /content/stylegan3/train.py --outdir=/content/training-runs --cfg=stylegan3-t --data=/content/data/ganyu/images64x64.zip \\\n",
        "  --gpus=1 --batch=32 --gamma=8.2 --mirror=1\n"
      ],
      "metadata": {
        "id": "9Jxatez86Y2Q"
      },
      "execution_count": null,
      "outputs": []
    },
    {
      "cell_type": "markdown",
      "source": [
        "# **Download Model**"
      ],
      "metadata": {
        "id": "T155_nkg6iuF"
      }
    },
    {
      "cell_type": "code",
      "source": [
        "from google.colab import files\n",
        "files.download('/content/training-runs/00000-stylegan3-t-images64x64-gpus1-batch32-gamma8.2/network-snapshot-000000.pkl')\n"
      ],
      "metadata": {
        "id": "zJXVdDn06mYP"
      },
      "execution_count": null,
      "outputs": []
    }
  ]
}